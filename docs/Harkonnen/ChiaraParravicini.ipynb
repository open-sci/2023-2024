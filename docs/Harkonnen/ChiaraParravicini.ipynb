{
 "cells": [
  {
   "cell_type": "markdown",
   "metadata": {},
   "source": [
    "# Open Science's Notebook 23/24"
   ]
  },
  {
   "cell_type": "markdown",
   "metadata": {},
   "source": [
    "## Chiara Parravicini - Team Harkonnen"
   ]
  },
  {
   "cell_type": "markdown",
   "metadata": {},
   "source": [
    "### Research Question:\n",
    "\n",
    "Is that possible to create a new index of citations which contains typed citations where a peer review (citing entity) reviews (specific citation function) a publication (cited entity)? What is the necessary transformation of the Crossref dump necessary to create such an index to be compliant with the OpenCitations Data Model? What are the top publication venues in terms of the number of peer reviews received? How many peer reviews in Crossref are included in OpenCitations Meta? How many articles that have been reviewed by a peer review are included in OpenCitations Meta?"
   ]
  },
  {
   "cell_type": "markdown",
   "metadata": {},
   "source": [
    "### Week 1 | 21/03 -> 27/03\n",
    "#### 26/03/2024\n",
    "\n",
    "- preliminary research on Crossref and OpenCitations Meta \n",
    "- group meeting discussing about our ideas on how to approach the different steps of the research question\n",
    "- writing a first version of the Abstract of the short article we'll have to write at the end of the project, starting to imagine how we will conduct our research and what could be the possible results\n",
    "\n",
    "**Questions:**\n",
    "- how can we use the class Reviewer (already existing in OpenCitations Ontology) to get the reviews (citing entity) we need for our index?\n",
    "- will it be necessary to create a specific object relation for indicating the relation between the review and the reviewed document? There are already existing properties ( \"is document context for\") but they connect the reviewer with the document "
   ]
  }
 ],
 "metadata": {
  "kernelspec": {
   "display_name": "Python 3",
   "language": "python",
   "name": "python3"
  },
  "language_info": {
   "name": "python",
   "version": "3.11.3"
  }
 },
 "nbformat": 4,
 "nbformat_minor": 2
}
