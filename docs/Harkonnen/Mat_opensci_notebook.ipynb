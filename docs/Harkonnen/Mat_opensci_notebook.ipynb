{
 "cells": [
  {
   "cell_type": "markdown",
   "metadata": {},
   "source": [
    "# Open Science's Notebook 23/24\n",
    "\n",
    "---------------------------------------\n"
   ]
  },
  {
   "cell_type": "markdown",
   "metadata": {},
   "source": [
    "## Research Question:\n",
    "_Is that possible to create a new index of citations which contains typed citations where a peer review (citing entity) reviews (specific citation function) a publication (cited entity)? What is the necessary transformation of the Crossref dump necessary to create such an index to be compliant with the OpenCitations Data Model? What are the top publication venues in terms of the number of peer reviews received? How many peer reviews in Crossref are included in OpenCitations Meta? How many articles that have been reviewed by a peer review are included in OpenCitations Meta?_"
   ]
  },
  {
   "cell_type": "markdown",
   "metadata": {},
   "source": [
    "## Matteo Guenci - 0001102177 - Harkonnen\n",
    "### Week 1 | 21/03 -> 27/03\n",
    "### Day 1 | 26/03/2024 | First entry\n",
    "\n",
    "<img src=\"https://i.kym-cdn.com/photos/images/original/002/235/045/934.jpg\">\n",
    "\n",
    "- Notebook has been created and uploaded on the [23/24 Open Science repository][]\n",
    "- The research question has been approached\n",
    "- A call has been made with the other members of the group to create an abstract of the project\n",
    "\n",
    "The following is a consideration that must be taken in account: to this day, given the fact that i just started the open science course i'm not really sure about what i'm writing below, in the sense that it may be possible that in the future by looking again at the following thoughts i will be horrified/amused by the things that i wrote, that being said these are my consideration up untill now. \n",
    "- To better understand how to resolve the reaearch question i looked at the definition given in the first lecture that we had about Crossref and OpenCitation Meta:\n",
    "  - Being that \"Each DOI registered in the Crossref system is associated with a URL to the publication’s webpage and accompanied with the metadata of the publications\" and \"Crossref provides a REST API to retrieve data about the entities and provides annual dumps\" i would imagine that is possible to create an index such as the one requested by the research question, maybe by taking a look at the annual dumps.\n",
    "  - Then i asked myself if there was any place in which i could find somethin even better instead of looking at the annual dumps of Crossref, that's where [COCI][] an \"RDF dataset containing details of all the citations that are specified by the open references to DOI-identified works present in Crossref\" stepped in. So it should be theoretically possible to check using its endpoint if the triple requested by the research question does exist\n",
    "  - By doing a quick research i found out that Crossref's annual dumps are in JSON, which i'm pretty sure that is not compliant with the OCDM, in order to be compliant it is necessary to transform the annual dumps.\n",
    "  - As for the fina parts of the research question further analysis are required and to this moment i'm unable to produce any consideration.\n",
    "\n",
    "\n",
    "[23/24 Open Science repository]: https://github.com/open-sci/2023-2024       \"Open Science\"\n",
    "[COCI]: https://opencitations.net/index/coci   \"COCI\""
   ]
  },
  {
   "cell_type": "markdown",
   "metadata": {},
   "source": [
    "### Usefull things to remember:\n",
    "- The term \"typed citation\" in this context could be translated as \"citation with defined type\". It refers to the ability to define specific types of citations within an index, such as a citation where a peer review (citing entity) reviews (specific citation function) a publication (cited entity). In this context, \"typed citation\" indicates that the citation is characterized by a specific relationship between the source and the target of the citation, which is defined based on a specific type of interaction between the two involved entities.\n",
    "\n",
    "- The OpenCitations Meta database (http://opencitations.net/meta) stores and delivers bibliographic metadata for all publications involved in the OpenCitations Index. For each publication, the metadata exposed by OpenCitations Meta includes the publication's title, type, venue (e.g. journal name), volume number, issue number, page numbers, publication date, and identifiers such as Digital Object Identifiers (DOIs) and PubMed Identifiers (PMIDs). Currently OpenCitations Meta contains more than 90 million bibliographic entities that can be accessed and queried through a REST API and downloaded as a full dump (http://opencitations.net/download#meta)\n",
    "\n",
    "- Crossref is a not-for-profit membership association which aims at promoting the development and cooperative use of new and innovative technologies to speed and facilitate scientific and other scholarly research. Crossref is one of the ten International DOI registration agencies, and allows its members to register the DOIs of their publications. Each DOI registered in the Crossref system is associated with a URL to the publication’s webpage and accompanied with the metadata of the publications. Crossref provides a REST API to retrieve data about the entities and provides annual dumps. The entities Crossref comprises include also peer reviews of other articles, as shown in the exemplar result of the of the following API call: \n",
    "\n",
    "- COCI, the OpenCitations Index of Crossref open DOI-to-DOI citations, is an RDF dataset containing details of all the citations that are specified by the open references to DOI-identified works present in Crossref, as of the latest COCI update. COCI does not index Crossref references that are not open, nor Crossref open references to entities that lack DOIs. The citations available in COCI are treated as first-class data entities, with accompanying properties including the citations timespan, modelled according to the OpenCitations Data Model.\n"
   ]
  }
 ],
 "metadata": {
  "kernelspec": {
   "display_name": "Python 3",
   "language": "python",
   "name": "python3"
  },
  "language_info": {
   "codemirror_mode": {
    "name": "ipython",
    "version": 3
   },
   "file_extension": ".py",
   "mimetype": "text/x-python",
   "name": "python",
   "nbconvert_exporter": "python",
   "pygments_lexer": "ipython3",
   "version": "3.10.8"
  }
 },
 "nbformat": 4,
 "nbformat_minor": 2
}
