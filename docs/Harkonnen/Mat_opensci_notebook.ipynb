{
 "cells": [
  {
   "cell_type": "markdown",
   "metadata": {},
   "source": [
    "# Open Science's Notebook 23/24\n",
    "\n",
    "---------------------------------------\n"
   ]
  },
  {
   "cell_type": "markdown",
   "metadata": {},
   "source": [
    "## Research Question:\n",
    "_Is that possible to create a new index of citations which contains typed citations where a peer review (citing entity) reviews (specific citation function) a publication (cited entity)? What is the necessary transformation of the Crossref dump necessary to create such an index to be compliant with the OpenCitations Data Model? What are the top publication venues in terms of the number of peer reviews received? How many peer reviews in Crossref are included in OpenCitations Meta? How many articles that have been reviewed by a peer review are included in OpenCitations Meta?_"
   ]
  },
  {
   "cell_type": "markdown",
   "metadata": {},
   "source": [
    "## Matteo Guenci - 0001102177 - Harkonnen\n",
    "## Week 1 | 21/03 -> 27/03\n",
    "### Day 1 | 26/03/2024 | First entry\n",
    "\n",
    "<center><img src=\"https://i.kym-cdn.com/photos/images/original/002/235/045/934.jpg\"></center>\n",
    "\n",
    "- Notebook has been created and uploaded on the [23/24 Open Science repository][]\n",
    "- The research question has been approached\n",
    "- A call has been made with the other members of the group to create an abstract of the project\n",
    "\n",
    "The following is a consideration that must be taken in account: to this day, given the fact that i just started the open science course i'm not really sure about what i'm writing below, in the sense that it may be possible that in the future by looking again at the following thoughts i will be horrified/amused by the things that i wrote, that being said these are my consideration up untill now. \n",
    "- To better understand how to resolve the reaearch question i looked at the definition given in the first lecture that we had about Crossref and OpenCitation Meta:\n",
    "  - Being that \"Each DOI registered in the Crossref system is associated with a URL to the publication’s webpage and accompanied with the metadata of the publications\" and \"Crossref provides a REST API to retrieve data about the entities and provides annual dumps\" i would imagine that is possible to create an index such as the one requested by the research question, maybe by taking a look at the annual dumps.\n",
    "  - Then i asked myself if there was any place in which i could find somethin even better instead of looking at the annual dumps of Crossref, that's where [COCI][] an \"RDF dataset containing details of all the citations that are specified by the open references to DOI-identified works present in Crossref\" stepped in. So it should be theoretically possible to check using its endpoint if the triple requested by the research question does exist\n",
    "  - By doing a quick research i found out that Crossref's annual dumps are in JSON, which i'm pretty sure that is not compliant with the OCDM, in order to be compliant it is necessary to transform the annual dumps.\n",
    "  - As for the fina parts of the research question further analysis are required and to this moment i'm unable to produce any consideration.\n",
    "\n",
    "\n",
    "[23/24 Open Science repository]: https://github.com/open-sci/2023-2024       \"Open Science\"\n",
    "[COCI]: https://opencitations.net/index/coci   \"COCI\""
   ]
  },
  {
   "cell_type": "markdown",
   "metadata": {},
   "source": [
    "## Week 2 and 3 | 28/03 -> 3/04 and 04/04 -> 10/04\n",
    "### Day 1 | 4/04/2024\n",
    "- Had a call with the other members of the group to organize our work. Beside the organization we didn't do that much but that's ok. A good work follows a good organization. Being the Easter week and being that everyone was pretty much back at home we did the most we could do:\n",
    "    - We talked about the first draft of the DMP.\n",
    "    - We talked about how to proceed to get the information we need to create the new index requested by the research qurestion.\n",
    "\n",
    "### Day 2 | 6/04/2024\n",
    "- We met to get some work. We created, not without any perplexity, the two DMPs we needed. Some fields that we had to fill during this process confused us, but i guess it is normal for the moment. We decided to meet again soon to work on the protocol that we have to develop. More than that:\n",
    "    - I took a look at the crossref ocumentation, the one on [github] and the one on their [website]  for the rest api of crossref, thanks to that i have a clearer idea on how to get some data we will definitely need.\n",
    "    - While we were talking we came up with a solution(?) that can potentially be effective and that we also discussed the week before but now we are getting more confident with it. Basically it is a workaround: while on Crossref it is quite easy to get data about documents and their peer review (because in Crossref there is a direct link that connects the peer review with the resource receiving the review), the OpenCitation data model lacks direct links between cited articles and their respective peer reviews so we thought that an important property for our purpose could be the \"[is document context for]\" a property \"relating a document to the role for which that document provides the context (e.g. relating a document to the role of author or peer-reviewer of that document). In this case, roles like \"reviewer\" or \"peer reviewer\" are pertinent considerations. In simpler words: find the document for which in that moment the author covered the role of reviewer or peer reviewer and then allineate them to the results taken from crossref\n",
    "    - Thanks to my group i learned important informations such as the fact that we won't need to query an infinite amount of time crossref or find another workaround that maybe is in the documentation because we'll just need to use the appropriate [library].\n",
    "\n",
    "\n",
    "### Doubts\n",
    "    \n",
    "<center><img src=\"https://images.fineartamerica.com/images/artworkimages/medium/3/dont-panic-hitchhikers-guide-to-the-galaxy-amin-sholeh-transparent.png\" heigt=200px width=400px></center>\n",
    "\n",
    "- While this seems a good plan to me (even if sometimes i stiil get stuck while trying to follow our own workaround), i have some perplexities regarding how we will pragmatically allineate all those results, how we will transform the format of results and all these kind of questions. I guess that when we'll start to develop our software everything will be clearer,hopefully, since the software itself is still one of my perplexities. But i trust myself and my groups, Furthermore, reassuring words echoing in my head, which I once read in a fairly famous book, also comfort me: \"Don't Panic. It's the first helpful or intelligible thing anybody's said to me all day.” so i won't. \n",
    "- We asked ourselves if there could be a problem regarding the fact that maybe while we're working the number of the reviews will grow.\n",
    "- I personally have a doubt regarding the fact that in this early stage of the work creating a DMP and a protocol without all the informations that we will have at the end of the project may be an iterative work that will require us many adjustments. I trust the fact that during the first lectures of this course Professor Peroni told us that it is the best choice to get these things done in advance\n",
    "\n",
    "\n",
    "### Future developments\n",
    "- As said before we will meet again to work on the protocol.\n",
    "- I have to get a deeper look at all the documentations needed to start developing the software.\n",
    "- After indulging in a binge of reading, it might be a good idea to adopt the same approach used for DMPs and the protocol, meaning starting work early so it doesn't become overwhelming later on.\n",
    "\n",
    "\n",
    "\n",
    "[github]: https://github.com/CrossRef/rest-api-doc#resource-components       \"Crossref\"\n",
    "[website]: https://www.crossref.org/documentation/retrieve-metadata/rest-api/        \"Crossref\"\n",
    "[is document context for]: https://sparontologies.github.io/pro/current/pro.html#d4e124    \"PRO ontology\"\n",
    "[library]: https://gitlab.com/crossref/crossref_commons_py    \"crossref_common_py\"\n",
    "[Daniele]: https://github.com/SpedicatiDaniele    \"Daniele\""
   ]
  },
  {
   "cell_type": "markdown",
   "metadata": {},
   "source": [
    "### Day 2 | 8/04/2024\n",
    "We met once again to define how the protocol should look like. During our meeting we were able to define a proper (hopefully) workflow to implement that should cover our task that is more or less looking like this:\n",
    "- Take all the peer reviews on Crossref, keeping track of the venues in which they're in\n",
    "- Transform the data in order to let them be compliant with the OC data model (so transform them into RDF)\n",
    "- Find the doi of the peer reviews present in OC and then create two lists:\n",
    "    - one for peer reviews that do not have any correspondance in OC, whether they are not in OC or they're not registered as peer reviews\n",
    "    - one for peer reviews that are already in OC\n",
    "- Isolate venues of the first lists and find out which venue has the highest number of peer reviews\n",
    "- Count how many DOIs are in the second list\n",
    "- Count how many DOIsof articles are in the second list\n",
    "\n",
    "More or less this should be the workflow we intend to implement to answer all the questions in our research question.\n",
    "\n",
    "\n",
    "### Doubts\n",
    "\n",
    "During our meeting we were a little bit confuse by our research question, because we didn't properly understand whether we should use our newly created index tpo answer all the sub-questions or if we should use already existing data."
   ]
  },
  {
   "cell_type": "markdown",
   "metadata": {},
   "source": [
    "### Usefull things to remember:\n",
    "- The term \"typed citation\" in this context could be translated as \"citation with defined type\". It refers to the ability to define specific types of citations within an index, such as a citation where a peer review (citing entity) reviews (specific citation function) a publication (cited entity). In this context, \"typed citation\" indicates that the citation is characterized by a specific relationship between the source and the target of the citation, which is defined based on a specific type of interaction between the two involved entities.\n",
    "\n",
    "- The [OpenCitations Meta database][] stores and delivers bibliographic metadata for all publications involved in the OpenCitations Index. For each publication, the metadata exposed by OpenCitations Meta includes the publication's title, type, venue (e.g. journal name), volume number, issue number, page numbers, publication date, and identifiers such as Digital Object Identifiers (DOIs) and PubMed Identifiers (PMIDs). Currently OpenCitations Meta contains more than 90 million bibliographic entities that can be accessed and queried through a REST API and downloaded as a [full dump][].\n",
    "\n",
    "- Crossref is a not-for-profit membership association which aims at promoting the development and cooperative use of new and innovative technologies to speed and facilitate scientific and other scholarly research. Crossref is one of the ten International DOI registration agencies, and allows its members to register the DOIs of their publications. Each DOI registered in the Crossref system is associated with a URL to the publication’s webpage and accompanied with the metadata of the publications. Crossref provides a REST API to retrieve data about the entities and provides annual dumps. The entities Crossref comprises include also peer reviews of other articles, as shown in the exemplar result of the of the following API call: \n",
    "\n",
    "- [COCI][], the OpenCitations Index of Crossref open DOI-to-DOI citations, is an RDF dataset containing details of all the citations that are specified by the open references to DOI-identified works present in Crossref, as of the latest COCI update. COCI does not index Crossref references that are not open, nor Crossref open references to entities that lack DOIs. The citations available in COCI are treated as first-class data entities, with accompanying properties including the citations timespan, modelled according to the OpenCitations Data Model.\n",
    "(This page is a legacy page (not linked anymore from the official website) that describes COCI. Since October 2023, all the citation data collected previously in different OpenCitations Indexes have been moved (and deduplicated) in the new citation collection, i.e. the OpenCitations Index.)\n",
    "\n",
    "- The [Crossref REST API][] is one of a variety of tools and APIs that allow anybody to search and reuse our members' metadata in sophisticated ways. If you read nothing else, please at least look at the API TIPs document and the \"Etiquette\" section of this document. It will save you (and us) much heartburn.\n",
    "\n",
    "- [OpenCitations Index][]: A citation index is a bibliographic index recording citations between publications, allowing the user to establish which later documents cite (i.e. contain references to) earlier documents. Several citation indexes are already available, some of which are freely accessible but not downloadable (e.g. Google Scholar), while others can be accessed only by paying significant subscription/access fees (e.g. Web of Science and Scopus).\n",
    "OpenCitations, as an infrastructure organization for open scholarship, has built the OpenCitations Index, a totally open citation index built on the bibliographic metadata for citing and cited publications that are stored in a separate database, OpenCitations Meta, using information available from a number of open bibliographic databases.\n",
    "\n",
    "[OpenCitations Meta database]: http://opencitations.net/meta     \"OpenCitations Meta\"\n",
    "[full dump]: http://opencitations.net/download#meta    \"full OpenCitations dump\"\n",
    "[Crossref REST API]: https://github.com/CrossRef/rest-api-doc#resource-components   \"Crossref REST API\"\n",
    "[COCI]: https://opencitations.net/index/coci   \"COCI\"\n",
    "[OpenCitations Index]: https://opencitations.net/index     \"OpenCitations Index\""
   ]
  }
 ],
 "metadata": {
  "kernelspec": {
   "display_name": "Python 3",
   "language": "python",
   "name": "python3"
  },
  "language_info": {
   "codemirror_mode": {
    "name": "ipython",
    "version": 3
   },
   "file_extension": ".py",
   "mimetype": "text/x-python",
   "name": "python",
   "nbconvert_exporter": "python",
   "pygments_lexer": "ipython3",
   "version": "3.10.8"
  }
 },
 "nbformat": 4,
 "nbformat_minor": 2
}
