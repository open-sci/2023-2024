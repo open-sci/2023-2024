{
 "cells": [
  {
   "cell_type": "markdown",
   "metadata": {},
   "source": [
    "## First week - getting to know each other\n",
    "\n",
    "### **To sum up**\n",
    "- Reviewed lecture materials and notes.\n",
    "- Focused on the research question with initial steps of exploration: considered Crossref and documentation related to the API (initial attempts at API requests); conducted a brief search on the OpenCitation data model and the hypothetical properties useful for our combined research.\n",
    "- Met with other team members to discuss the abstract.\n",
    "\n",
    "### Small steps\n",
    "- The entire **Crossref** database is a 185GB file. Among all this data, 491602 is the total number of [peer-reviewed](https://api.crossref.org/types/peer-review/works?rows=0) records stored. In Crossref, there are three different versions of the API - for us, both the Public and the Polite versions are suitable (the Plus version is not useful). While the former is completely anonymous but often inconsistent, the latter is generally more reliable. The API is delicate and can easily go down. There is a documentation page created specifically to list useful tips for our future work (e.g., query bibliographic parameters, rows, etc.): this is to avoid slow queries or false positives. Pay attention to persistent errors as they can interrupt the query reception by the system. The document also includes some Python libraries that could be useful in case of long queries.\n",
    "- The **OpenCitation data model** lacks direct links between a cited article and the citing peer-review. The property that may be most suitable for our work is the object property \"*is document context for*\" (\"A property relating a document to the role for which that document provides the context (e.g. relating a document to the role of author or peer-reviewer of that document)\"). The roles to consider for the agents in this case could be \"*reviewer*\" or \"*peer reviewer*\".\n",
    "\n",
    "### What will follow? Getting started. \n",
    "- Clarify which API call to use to precisely retrieve the review and the reference article in Crossref.\n",
    "- Clarify the usage of the OC ontology and understand how many articles have at least one review.\n",
    "- Determine how to transform the JSON from Crossref into RDF triples of OC (starting from a single review as well). \n",
    "\n",
    "> ### *Usefull links*\n",
    ">- [Crossref API documentation ](https://https://www.crossref.org/documentation/retrieve-metadata/rest-api/)\n",
    ">- [OC ontology](https://opencitations.github.io/ontology/current/ontology.html#d4e240)\n",
    ">    - [PRO, the Publishing Roles Ontology](https://sparontologies.github.io/pro/current/pro.html#d4e825)\n"
   ]
  }
 ],
 "metadata": {
  "language_info": {
   "name": "python"
  }
 },
 "nbformat": 4,
 "nbformat_minor": 2
}
