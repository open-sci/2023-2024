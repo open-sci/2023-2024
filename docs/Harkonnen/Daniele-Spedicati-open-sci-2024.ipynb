{
 "cells": [
  {
   "cell_type": "markdown",
   "metadata": {},
   "source": [
    "# Open Science Project Notebook 2024\n",
    "\n",
    "**Student:** Daniele Spedicati \n",
    "\n",
    "**Student number:** 1075755\n"
   ]
  },
  {
   "cell_type": "markdown",
   "metadata": {},
   "source": [
    "## Team Harkonnen\n",
    "\n",
    "**Research question**\n",
    "\n",
    "Is that possible to create a new index of citations which contains typed citations where a peer review (citing entity) reviews (specific citation function) a publication (cited entity)? What is the necessary transformation of the Crossref dump necessary to create such an index to be compliant with the OpenCitations Data Model? What are the top publication venues in terms of the number of peer reviews received? How many peer reviews in Crossref are included in OpenCitations Meta? How many articles that have been reviewed by a peer review are included in OpenCitations Meta?\n"
   ]
  },
  {
   "cell_type": "markdown",
   "metadata": {},
   "source": [
    "## Week 1 \n",
    "\n",
    "### 21/03 - 27/03"
   ]
  },
  {
   "cell_type": "markdown",
   "metadata": {},
   "source": [
    "#### 26/03"
   ]
  },
  {
   "cell_type": "markdown",
   "metadata": {},
   "source": [
    "A team meeting was held which resulted in the following conclusions:\n",
    "- The competency question has been divided in subquestions;\n",
    "- A first attempt to understand how to approach the subquestions has been made;\n",
    "- This reasoning resulted in a first attempt to the abstract."
   ]
  },
  {
   "cell_type": "markdown",
   "metadata": {},
   "source": [
    "**Subquestions**\n",
    "\n",
    "1. Is that possible to create a new index of citations which contains typed citations where a peer review (citing entity) reviews (specific citation function) a publication (cited entity)?\n",
    "2. What is the necessary transformation of the Crossref dump necessary to create such an index to be compliant with the OpenCitations Data Model? \n",
    "3. What are the top publication venues in terms of the number of peer reviews received? \n",
    "4. How many peer reviews in Crossref are included in OpenCitations Meta? \n",
    "5. How many articles that have been reviewed by a peer review are included in OpenCitations Meta?"
   ]
  },
  {
   "cell_type": "markdown",
   "metadata": {},
   "source": [
    "**Resolution approaches**\n",
    "\n",
    "The solution here propoesed are purely speculative and based on a very shallow reading of different documentation material.\n",
    "\n",
    "1. The peer-reviewer role is covered in the OpenCitation Data Model by the [PRO](https://sparontologies.github.io/pro/current/pro.html#d4e825) ontology.\n",
    "A foaf:Agent pro:holdsRoleInTime pro:RoleInTime. \n",
    "The RoleInTime pro:withRole pro:Role, can express the role of peer-reviewer. \n",
    "The pro:RoleInTime pro:relatesToDocument foaf:Document.\n",
    "It is to be understood how to connect the review to the reviewed pubblication since there is no direct connection between the two of them (apparently).\n",
    "\n",
    "2. At first glence the dump result should be converted into from JSON (each key should have a property translating it). Than the doi property shold be processed by the OpenCitations Meta. To be better studied. \n",
    "\n",
    "The final two questions have not been addressed."
   ]
  },
  {
   "cell_type": "markdown",
   "metadata": {},
   "source": [
    "**Abstract 1**\n",
    "\n",
    "The purpose of this study examines the feasibility of:\n",
    "- creating a new citation index that includes peer review interactions with publication.\n",
    "- The necessary transformation of the Crossref dumpe to create an index compliant with the OCDM.\n",
    "- To find out what are the venues with the highest number of peer reviews received, how many peer reviews present in Crossref are also included in OpenCitations Meta, and how many articles reviewed by a peer review are included in OpenCitations Meta.\n",
    "\n",
    "Study design/methodology/approach: Analyzing the Crossref dataset, we explore how to integrate peer review interactions into citation indices while ensuring compatibility with the OpenCitations Data Model.\n",
    "\n",
    "Findings: To the moment we don't have any relevant findings being that the work has just been started, we expect complexities involved in incorporating peer review data into citation indices, necessitating careful schema adjustments.\n",
    "\n",
    "Originality/value: This study contributes to improving scholarly metadata and understanding research impact by proposing a novel citation index that captures peer review interactions."
   ]
  },
  {
   "cell_type": "markdown",
   "metadata": {},
   "source": [
    "**Other Observations**\n",
    "\n",
    "\n",
    "- The term \"typed citation\" in this context could be translated as \"citation with defined type\". It refers to the ability to define specific types of citations within an index, such as a citation where a peer review (citing entity) reviews (specific citation function) a publication (cited entity). In this context, \"typed citation\" indicates that the citation is characterized by a specific relationship between the source and the target of the citation, which is defined based on a specific type of interaction between the two involved entities.\n",
    "\n",
    "-  The OpenCitations Meta database (http://opencitations.net/meta) stores and delivers bibliographic metadata for all publications involved in the OpenCitations Index. For each publication, the metadata exposed by OpenCitations Meta includes the publication's title, type, venue (e.g. journal name), volume number, issue number, page numbers, publication date, and identifiers such as Digital Object Identifiers (DOIs) and PubMed Identifiers (PMIDs). Currently OpenCitations Meta contains more than 90 million bibliographic entities that can be accessed and queried through a REST API and downloaded as a full dump (http://opencitations.net/download#meta)\n",
    "\n",
    "- Crossref is a not-for-profit membership association which aims at promoting the development and cooperative use of new and innovative technologies to speed and facilitate scientific and other scholarly research. Crossref is one of the ten International DOI registration agencies, and allows its members to register the DOIs of their publications. Each DOI registered in the Crossref system is associated with a URL to the publication’s webpage and accompanied with the metadata of the publications. Crossref provides a REST API to retrieve data about the entities and provides annual dumps. The entities Crossref comprises include also peer reviews of other articles, as shown in the exemplar result of the of the following API call:\n",
    "\n",
    "- COCI, the OpenCitations Index of Crossref open DOI-to-DOI citations, is an RDF dataset containing details of all the citations that are specified by the open references to DOI-identified works present in Crossref, as of the latest COCI update. COCI does not index Crossref references that are not open, nor Crossref open references to entities that lack DOIs. The citations available in COCI are treated as first-class data entities, with accompanying properties including the citations timespan, modelled according to the OpenCitations Data Model.\n"
   ]
  }
 ],
 "metadata": {
  "language_info": {
   "name": "python"
  }
 },
 "nbformat": 4,
 "nbformat_minor": 2
}
