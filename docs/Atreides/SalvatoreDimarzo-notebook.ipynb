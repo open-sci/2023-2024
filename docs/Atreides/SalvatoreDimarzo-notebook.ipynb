{
 "cells": [
  {
   "cell_type": "code",
   "execution_count": 3,
   "metadata": {
    "vscode": {
     "languageId": "html"
    }
   },
   "outputs": [
    {
     "ename": "SyntaxError",
     "evalue": "leading zeros in decimal integer literals are not permitted; use an 0o prefix for octal integers (253467261.py, line 13)",
     "output_type": "error",
     "traceback": [
      "\u001b[1;36m  Cell \u001b[1;32mIn[3], line 13\u001b[1;36m\u001b[0m\n\u001b[1;33m    <h3>Week 1 21/03 - 27/03</h3>\u001b[0m\n\u001b[1;37m                  ^\u001b[0m\n\u001b[1;31mSyntaxError\u001b[0m\u001b[1;31m:\u001b[0m leading zeros in decimal integer literals are not permitted; use an 0o prefix for octal integers\n"
     ]
    }
   ],
   "source": [
    "<h1>Open Science Project Notebook</h1>\n",
    "<h2>Salvatore Di Marzo - Team Atreides </h2>\n",
    "<h3>Research Question</h3>\n",
    "<p>What is the coverage of the publications available in IRIS,\n",
    "that strictly concern research conducted within the University of Bologna,\n",
    "in OpenCitations Meta? What is the types of publications that are better covered in OpenCitations Meta?\n",
    "What is the amount of citations (according to OpenCitations Index) the IRIS publications included in OpenCitations Meta are involved in\n",
    "(as citing entity and as cited entity)? \n",
    "How many of these citations come from and go to publications not included in IRIS,\n",
    "and how many of these citations involves publications in IRIS as both citing and cited entities?</p>\n",
    "<br>\n",
    "<br>\n",
    "<h3>Week 1 21/03 - 27/03</h3>\n",
    "<ul>\n",
    "    <li>Worked on the abstract</li>\n",
    "    <li>Uploaded the notebook</li>\n",
    "    <li>First look at the lecture's material</li>\n",
    "</ul>\n"
   ]
  }
 ],
 "metadata": {
  "kernelspec": {
   "display_name": "Python 3",
   "language": "python",
   "name": "python3"
  },
  "language_info": {
   "codemirror_mode": {
    "name": "ipython",
    "version": 3
   },
   "file_extension": ".py",
   "mimetype": "text/x-python",
   "name": "python",
   "nbconvert_exporter": "python",
   "pygments_lexer": "ipython3",
   "version": "3.10.8"
  }
 },
 "nbformat": 4,
 "nbformat_minor": 2
}
