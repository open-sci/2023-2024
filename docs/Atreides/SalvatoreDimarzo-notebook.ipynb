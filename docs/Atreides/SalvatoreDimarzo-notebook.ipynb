{
 "cells": [
  {
   "cell_type": "markdown",
   "metadata": {},
   "source": [
    "\n",
    "<style>\n",
    "\n",
    "@font-face { font-family: Dune_Rise; src: url('../Open Science/Dune_Rise.ttf') format('ttf'),\n",
    "                                src: url('../Open Science/Dune_Rise.otf') format('otf')};\n",
    "h1, h2, p{\n",
    "    color: pink;\n",
    "    font-family: Dune_Rise;\n",
    "}\n",
    "\n",
    "#research_question{\n",
    "    text-align: center;\n",
    "    border: 10px dotted black;\n",
    "}\n",
    "\n",
    "\n",
    "</style>\n",
    "</h1>\n",
    "<h1>Open Science Project Notebook</h1>\n",
    "<h2>Salvatore Di Marzo - Team Atreides </h2>\n",
    "<img src='https://www.cercatoridiatlantide.it/wp-content/uploads/2023/11/5yastmfqfys41.png'></img>\n",
    "<h3>Research Question</h3>\n",
    "<p>What is the coverage of the publications available in IRIS,\n",
    "that strictly concern research conducted within the University of Bologna,\n",
    "in OpenCitations Meta? What is the types of publications that are better covered in OpenCitations Meta?\n",
    "What is the amount of citations (according to OpenCitations Index) the IRIS publications included in OpenCitations Meta are involved in\n",
    "(as citing entity and as cited entity)? \n",
    "How many of these citations come from and go to publications not included in IRIS,\n",
    "and how many of these citations involves publications in IRIS as both citing and cited entities?</p>\n",
    "<br>\n",
    "<br>\n",
    "<h3>Week 1 | 21/03 -> 27/03</h3>\n",
    "<ul>\n",
    "    <li>Worked on the abstract</li>\n",
    "    <li>Uploaded the notebook</li>\n",
    "    <li>First look at the lecture material</li>\n",
    "</ul>\n",
    "\n",
    "<p>Abstract 24/03/2023\n",
    "\n",
    "This project aims to investigates the discoverability of University of Bologna's scholarly output within OpenCitations Meta, a platform that stores and delivers bibliographic metadata for alle the publications involved in OpenCitations Index which contains recording citations allowing the user to visualize all of the citation links between a document and another.\n",
    "\n",
    "Specifically, this project aims to:\n",
    "\n",
    "- Analyze the coverage of University of Bologna publications deposited in the IRIS institutional repository within OpenCitations Meta.\n",
    "- Identify the publication types better represented in OpenCitations Meta for the university's research.\n",
    "- Quantify the citation impact of these IRIS publications using OpenCitations data. This includes the number of citations they receive (cited entity) and give (citing entity).\n",
    "- Further dissect the citations to determine how many involve publications outside of IRIS (both citing and cited) and how many represent citations within IRIS (both citing and cited).\n",
    "\n",
    "The methodology used will be all compliant to the core values of Open Science, the data and the softwares used will all be made available to allow the user to replicate, reproduce and validate the conclusions drawn by by the end results of the project.\n",
    "</p>\n",
    "\n",
    "<h3>Week 2 | 27/03 -> 04/04</h3>\n",
    "<p>Worked on the first version with the group for the first version of the DMP, we still have some doubts regarding the final version of the dmp but gradually during the duration of the course we will be able to get all the information needed to finish the final version of the dmp.</p>\n",
    "<figure>\n",
    "<img id=\"dune_meme\" src=\"https://ia804600.us.archive.org/26/items/me-and-the-boys-dune-version-meme/IMG_20211224_185430.jpg\" width=\"300\" height=\"auto\">\n",
    "    <figcaption>The face the team made when we saw all of the steps of the dmp</figcaption>\n",
    "</figure>\n",
    "<h3>Week 3 | 4/04 -> 12/04</h3>\n",
    "<h4>8/04</h4>\n",
    "<h5>Post Gangemi exam</h5>\n",
    "<p>This marks the week where we start to finalize some of the missing information of the dmp and also when we will try to establish the first verison of the workflow for the whole project that will be uploaded on Protocols.io which is a platform that allows the user to visualize graphically the whole workflow. Tomorrow i will gather all of the information i can on the resources needed to answer the research question, maybe try to establish a first workflow after I visualize the scope of the whole project and also I should finalise the description for the software in the dmp.</p>\n",
    "<h4>9/04</h4>\n",
    "<p>Finish the dmp part of the software description</p>\n",
    "<p id=\"research_question\">What is the coverage of the publications available in IRIS, that strictly concern research conducted within the University of Bologna, in OpenCitations Meta? What is the types of publications that are better covered in OpenCitations Meta? What is the amount of citations (according to OpenCitations Index) the IRIS publications included in OpenCitations Meta are involved in (as citing entity and as cited entity)? How many of these citations come from and go to publications not included in IRIS, and how many of these citations involves publications in IRIS as both citing and cited entities?</p>\n",
    "<p>Let's try to explain step by step all of the requirements for the research question\n",
    "<ul><li>How many publications inside of IRIS are in OpenCitations Meta, especially the ones regarding research conducted inside of the university of Bologna</li>\n",
    "<li>List all of the publications available, especially the one that has the most number of entities</li>\n",
    "<li>How many citations that cite or are cited regarding IRIS are inside of OpenCitations Meta</li>\n",
    "<li>How many of these citations regard IRIS as the one citing other resources or the one that cite IRIS, and how many are the ones that see IRIS as cited and citing</li></ul>\n",
    "</p>\n",
    "<p>I developed the first version of the DMP, there are still some things that I need to discuss with the group, mainly the ones regarding if we want to add metadata, the kind of vocabulary we will use, the schema and what we will describe with it. Also we have to specify the roles inside of the software development, besides these issues, the dmp seems to be almost complete, the things missing will probably be filled during the course of the remaining lectures</p>\n",
    "<p>I will now attempt to make a first draft of the workflow:\n",
    "<ul><li>Sparql query to find all of the publications of IRIS inside of OpenCitations Meta, regarding the research conducted in UNIBO</li>\n",
    "<li>Sparql query to find the most popular type of publication</li>\n",
    "<li>Sparql query to find the entities that cite or are cited by IRIS</li>\n",
    "<li>Sparql query to find how many cite IRIS how many it cites, and how many cite or are cited inside of IRIS</li>\n",
    "</ul>\n",
    "\n",
    "<h3>12/04</h3>\n",
    "<p>Worked with the team on the production of the Protocol</p>\n",
    "<h3>30/04</h3>\n",
    "<p>Now it's time to actually work, today I will give a closer look at the files and all that we've done to start to place the foundation of all of our work.</p>\n",
    "<p>We started with beautiful soup then then with the api of meta and index and now we are back to working on the files</p>\n",
    "<p> I've just finished a first version of the third research question, with a sparql query i got all of the urls of the entities of iris in om, then i made a query to find which entities cited and were cited by the url inside of the list of url that i retrieved from the starting query<p>"
   ]
  },
  {
   "cell_type": "markdown",
   "metadata": {},
   "source": [
    "<h3>1/05 to 27/05<h3>\n"
   ]
  },
  {
   "cell_type": "code",
   "execution_count": null,
   "metadata": {
    "vscode": {
     "languageId": "sql"
    }
   },
   "outputs": [],
   "source": [
    "PREFIX cito:<http://purl.org/spar/cito/>\n",
    "SELECT ?citation ?citing_entity ?cited_entity WHERE {{\n",
    "    ?citation a cito:Citation .\n",
    "\t?citation cito:hasCitingEntity <https://w3id.org/oc/meta/br/062501777134> .\n",
    "\t?citation cito:hasCitedEntity ?cited_entity\n",
    "}\n",
    "  UNION {\n",
    "        ?citation a cito:Citation ;\n",
    "      \tcito:hasCitedEntity <https://w3id.org/oc/meta/br/062501777134> ;\n",
    "                  cito:hasCitingEntity ?citing_entity .\n",
    "}\n",
    "}"
   ]
  },
  {
   "cell_type": "markdown",
   "metadata": {},
   "source": [
    "<p>This is the first try of the union query between the citing and cited entities, i will leave it here so then when i meet with the group i can try to find with them a solution, because i think that making two queries for this will be too heavy computationally speaking.<p>"
   ]
  },
  {
   "cell_type": "markdown",
   "metadata": {},
   "source": [
    "<h3>8/05</h3>\n",
    "<p>We have spoken with the professor after the seminar and this is all of the information that I've gathered: \n",
    "Write the RAM requirements in the protocol, the software needs to be divided into modules and be placed inside a jupyter notebook, the meta parquets are given in a new format so we have to insert them into the dmp specifying their creation and use process, we have to work exclusively on the file and not rely heavily on the Meta and Index ap. We need to download the meta and index files and continue doing all the work from there.</p>\n"
   ]
  },
  {
   "cell_type": "markdown",
   "metadata": {},
   "source": [
    "<h3>14/05</h3>\n",
    "<p>After meeting with the group, Leonardo has transferred all of the data dumps that we have downloaded in parquet files, which reduce the overall weight of the files and allow for faster querying speed. I'm starting to write the article to get a jump ahead and this all of the requirements that I have gathered so far: Describe literally everything starting from the abstract which must summarize all the work, it must also contain a brief overview of the results, the introduction must contain a brief context of the work area, then talk about open science and open access in general, a brief overview of the history of open science, obviously insert the research questions in the introduction, indicate that we have made a DMP and that it has been peer reviewed and corrected, same thing for the protocol, a small chapter on the data used where it was taken from, the methodology also indicating all the python libraries used, a very detailed description of all the software trying to make a single discussion from start to finish on the code of the code, also indicate in which pieces of code any research questions are answered. The results chapter must have various visualizations, in the final conclusion chapter in we should discuss the results achieved and what they mean, think about what use these could have in the future and above all try to understand how to improve the possible situation in case there are deficiencies within what is goes to examine.</p>"
   ]
  },
  {
   "cell_type": "markdown",
   "metadata": {},
   "source": [
    "<h3>15/05</h3>\n",
    "<p>I have worked on the code to retrieve all of the entities inside of meta that we were not able to reach with the identifiers, so with the use of the Meta api and the script that I made, i was able to retrieve by using our list of iris_id_no_title, to make a query that would retrieve the omid, br and type of the resource that matched that title inside of the query, by doing this I was able to retrieve other 150 entities that we were not able to reach before</p>  "
   ]
  },
  {
   "cell_type": "code",
   "execution_count": null,
   "metadata": {
    "vscode": {
     "languageId": "sql"
    }
   },
   "outputs": [],
   "source": [
    "PREFIX datacite: <http://purl.org/spar/datacite/>\n",
    "PREFIX dcterms: <http://purl.org/dc/terms/>\n",
    "PREFIX literal: <http://www.essepuntato.it/2010/06/literalreification/>\n",
    "PREFIX fabio: <http://purl.org/spar/fabio/>\n",
    "    SELECT ?entity ?doi\n",
    "    WHERE {\n",
    "    ?entity dcterms:title \"{title}\" .\n",
    "    ?entity datacite:hasIdentifier ?identifier.\n",
    "    ?identifier datacite:usesIdentifierScheme datacite:doi.\n",
    "    ?identifier literal:hasLiteralValue ?doi.\n",
    "}"
   ]
  },
  {
   "cell_type": "markdown",
   "metadata": {},
   "source": [
    "<p> This is the query, that combined with the script that used SPARQLWrapper allowed me to query all of the entities that had no identifiers and that are present in meta. </p>"
   ]
  },
  {
   "cell_type": "markdown",
   "metadata": {},
   "source": [
    "<h3>20/05 -> 27/05</h3>\n",
    "<p>After meeting various times with the group we have finished answering the research questions and now are the last phases of completing the overall to do list for the exam, I'm at a good point with the article and I've made a new version of the DMP that also includes in the description the Iris dump, the Meta and Index dump in parquet, and the modified description of the Software to be up to date with the changes that we have made so far</p>\n",
    "<p>I've made some changes to the query for the entities with no identifiers to also include the type of the resource that is being retrieved by the query</p>\n",
    "<p>One of the problems that is rising is that the results of the query somentimes gives error 403 when it's being run on other pcs, which could be a problem for the reproducibility of the project, with the group we'll see how to deal with it.</p>\n",
    "<p>Once I ultimate the software with the group I'll upload it on software heritage. The article is almost finished and we are starting to work on the slides for the presentation</p> \n",
    "\n",
    "<h3>24/05 -> 27/05</h3>\n",
    "<p>Finished working on the dmp, and uploaded all of the data on figshare and software heritage. Finshed writing the article and ultimated the slides with the groups</p>\n",
    "<p>The only thing left now is the presentation</p>\n"
   ]
  }
 ],
 "metadata": {
  "kernelspec": {
   "display_name": "Python 3",
   "language": "python",
   "name": "python3"
  },
  "language_info": {
   "codemirror_mode": {
    "name": "ipython",
    "version": 3
   },
   "file_extension": ".py",
   "mimetype": "text/x-python",
   "name": "python",
   "nbconvert_exporter": "python",
   "pygments_lexer": "ipython3",
   "version": "3.10.8"
  }
 },
 "nbformat": 4,
 "nbformat_minor": 2
}
