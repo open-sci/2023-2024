{
 "cells": [
  {
   "cell_type": "markdown",
   "metadata": {},
   "source": [
    "# <center><b>Open Science Project Notebook</b><center>"
   ]
  },
  {
   "cell_type": "markdown",
   "metadata": {},
   "source": [
    "### <center>Leonardo Zilli - 0001102264 - Team Atreides</center>\n",
    "##### <center><i>Spring 2024</i></center>\n",
    "###### <center><i><a href=\"https://nbviewer.org/github/open-sci/2023-2024/blob/main/docs/Atreides/Leonardo%27s%20notebook.ipynb\">nbviewer</a></i></center>\n",
    "\n",
    "---\n",
    "---"
   ]
  },
  {
   "cell_type": "markdown",
   "metadata": {},
   "source": [
    "### Research Question"
   ]
  },
  {
   "cell_type": "markdown",
   "metadata": {},
   "source": [
    "What is the coverage of the publications available in IRIS, that strictly concern research conducted within the University of Bologna, in OpenCitations Meta? What is the types of publications that are better covered in OpenCitations Meta? What is the amount of citations (according to OpenCitations Index) the IRIS publications included in OpenCitations Meta are involved in (as citing entity and as cited entity)? How many of these citations come from and go to publications not included in IRIS, and how many of these citations involves publications in IRIS as both citing and cited entities?"
   ]
  },
  {
   "cell_type": "markdown",
   "metadata": {},
   "source": [
    "### Abstract\n",
    "\n"
   ]
  },
  {
   "cell_type": "markdown",
   "metadata": {},
   "source": [
    "[Abstract](abstract.md)\n"
   ]
  },
  {
   "cell_type": "markdown",
   "metadata": {},
   "source": [
    "---"
   ]
  },
  {
   "cell_type": "markdown",
   "metadata": {},
   "source": [
    "### Week 1 | *21/03 -> 27/03*"
   ]
  },
  {
   "cell_type": "markdown",
   "metadata": {},
   "source": [
    "#### Todo:"
   ]
  },
  {
   "cell_type": "markdown",
   "metadata": {},
   "source": [
    "- [x] Upload notebook\n",
    "- [x] Write abstract"
   ]
  },
  {
   "cell_type": "markdown",
   "metadata": {},
   "source": [
    "#### Considerations:"
   ]
  },
  {
   "cell_type": "markdown",
   "metadata": {},
   "source": [
    "* Inquire on the points highlighted during Tomasi's seminar (Zenodo, DOI, SWH)\n",
    "* [protocols.io](https://www.protocols.io/)"
   ]
  },
  {
   "cell_type": "markdown",
   "metadata": {},
   "source": [
    "#### Diary:"
   ]
  },
  {
   "cell_type": "markdown",
   "metadata": {},
   "source": [
    "##### Monday, *25/03*"
   ]
  },
  {
   "cell_type": "markdown",
   "metadata": {},
   "source": [
    "* Created and uploaded my notebook for the project \n",
    "* Worked with the others to a first version of the abstract\n",
    "    - <u>do we have to explain what OC Meta, OC Index or IRIS, is?</u>\n",
    "    - <u>do we have to explicitly disclose all the RQs?</u>\n",
    "    - <u>WHY do we need to analyze the IRIS dump's coverage in OCMeta?</u>\n",
    "* Dissected the research question into smaller ones, see below:\n",
    "\n",
    "| Question      | Solution |\n",
    "| ----------- | ----------- |\n",
    "| 1. What is the coverage of the publications available in IRIS (strictly concerning research conducted within the University of Bologna) in OpenCitations Meta? |        |\n",
    "| 2. Which are the types of publications that are better covered in OpenCitations Meta?   |         |\n",
    "| 3. What is the amount of citations (according to OpenCitations Index) coming from the IRIS publications that are involved in OpenCitations Meta (as citing entity and as cited entity)? |       |\n",
    "| 4. How many of these citations come from and go to publications that are not included in IRIS? |         |\n",
    "| 5. How many of these citations involve publications in IRIS as both citing and cited entities? |         |\n"
   ]
  },
  {
   "cell_type": "markdown",
   "metadata": {},
   "source": [
    "how to find citations??"
   ]
  },
  {
   "cell_type": "markdown",
   "metadata": {},
   "source": [
    "<hr style=\"width: 50%;\">\n",
    "\n",
    "### Week 2 | *28/03 -> 03/04*"
   ]
  },
  {
   "cell_type": "markdown",
   "metadata": {},
   "source": [
    "#### Todo:"
   ]
  },
  {
   "cell_type": "markdown",
   "metadata": {},
   "source": [
    "- [ ] Create DMP"
   ]
  },
  {
   "cell_type": "markdown",
   "metadata": {},
   "source": [
    "#### Considerations:"
   ]
  },
  {
   "cell_type": "markdown",
   "metadata": {},
   "source": []
  },
  {
   "cell_type": "markdown",
   "metadata": {},
   "source": [
    "#### Diary:"
   ]
  },
  {
   "cell_type": "markdown",
   "metadata": {},
   "source": [
    "##### Saturday, 02/04"
   ]
  },
  {
   "cell_type": "markdown",
   "metadata": {},
   "source": [
    "* Had a call with the others and did a first draft of the DMP with [argos](https://argos.openaire.eu/). We also created a <ins>draft</ins> of it on Zenodo, because we need to clarify some things first.\n",
    "    - <u>do we upload the DMP as a whole on Zenodo or the two descriptions singularly?</u>\n",
    "    - <u>there were a lot of things we couldn't specify during the creation of the DMP (e.g. expected size of the software)</u>"
   ]
  },
  {
   "cell_type": "markdown",
   "metadata": {},
   "source": [
    "<hr style=\"width: 50%;\">\n",
    "\n",
    "### Week 3 | *04/04 -> 10/04*"
   ]
  },
  {
   "cell_type": "markdown",
   "metadata": {},
   "source": [
    "#### Todo:"
   ]
  },
  {
   "cell_type": "markdown",
   "metadata": {},
   "source": [
    "- [x] Create protocol"
   ]
  },
  {
   "cell_type": "markdown",
   "metadata": {},
   "source": [
    "#### Considerations:"
   ]
  },
  {
   "cell_type": "markdown",
   "metadata": {},
   "source": [
    "* do we need metadata for our output?"
   ]
  },
  {
   "cell_type": "markdown",
   "metadata": {},
   "source": [
    "#### Diary:"
   ]
  },
  {
   "cell_type": "markdown",
   "metadata": {},
   "source": [
    "##### Sunday, 07/04"
   ]
  },
  {
   "cell_type": "markdown",
   "metadata": {},
   "source": [
    "* Worked further on the DMP; some entries for which we have doubts:\n",
    "    - 2.1.1 Does the described output support any scientific publication? Create the links between scientific publications and research data.\n",
    "    - Will you provide metadata for the described dataset / output?\n",
    "    - 3.2.1.1 In which repository will the dataset / output be deposited?\n",
    "    - 3.2.3.1 Will you provide metadata even if the described dataset / output can not be openly shared?\n",
    "    \n",
    "    \n",
    "Generally the biggest doubt comes from <ins>metadata</ins>: will we have the chance to create them for our resources and upload them somewhere?"
   ]
  },
  {
   "cell_type": "markdown",
   "metadata": {},
   "source": [
    "<hr style=\"width: 50%;\">\n",
    "\n",
    "### Week 4 | *11/04 -> 17/04*"
   ]
  },
  {
   "cell_type": "markdown",
   "metadata": {},
   "source": [
    "#### Todo:"
   ]
  },
  {
   "cell_type": "markdown",
   "metadata": {},
   "source": [
    "- [x] Make peer review\n",
    "- [x] Choose license for software"
   ]
  },
  {
   "cell_type": "markdown",
   "metadata": {},
   "source": [
    "#### Considerations:"
   ]
  },
  {
   "cell_type": "markdown",
   "metadata": {},
   "source": []
  },
  {
   "cell_type": "markdown",
   "metadata": {},
   "source": [
    "#### Diary:"
   ]
  },
  {
   "cell_type": "markdown",
   "metadata": {},
   "source": [
    "##### Friday, 12/04\n",
    "* Met with the others to create the [first version](https://dx.doi.org/10.17504/protocols.io.3byl497wjgo5/v1) of the protocol for the software"
   ]
  },
  {
   "cell_type": "markdown",
   "metadata": {},
   "source": [
    "##### Friday, 17/04\n",
    "* Made peer review for the other team's DMP\n",
    "* Initialized jupyter notebook for the handling of the data"
   ]
  },
  {
   "cell_type": "markdown",
   "metadata": {},
   "source": [
    "<hr style=\"width: 50%;\">\n",
    "\n",
    "### Week 5 | *18/04 -> 24/04*"
   ]
  },
  {
   "cell_type": "markdown",
   "metadata": {},
   "source": [
    "#### Todo:"
   ]
  },
  {
   "cell_type": "markdown",
   "metadata": {},
   "source": [
    "- [ ] Update DMP and protocol"
   ]
  },
  {
   "cell_type": "markdown",
   "metadata": {},
   "source": [
    "#### Considerations:"
   ]
  },
  {
   "cell_type": "markdown",
   "metadata": {},
   "source": [
    "#### Diary:"
   ]
  },
  {
   "cell_type": "markdown",
   "metadata": {},
   "source": [
    "##### Thursday, 18/04"
   ]
  },
  {
   "cell_type": "markdown",
   "metadata": {},
   "source": [
    "##### Monday, 22/04"
   ]
  },
  {
   "cell_type": "markdown",
   "metadata": {},
   "source": [
    "* 130k queries take too much time...we either need _batches_ or _parallelizataion_\n",
    "    - batches take *allegedly* 13 minutes, results need to be checked.\n",
    "    - parallelization takes ~1.5h"
   ]
  },
  {
   "cell_type": "markdown",
   "metadata": {},
   "source": [
    "<hr style=\"width: 50%;\">\n",
    "\n",
    "### Week 6 | *25/04 -> 01/05*"
   ]
  },
  {
   "cell_type": "markdown",
   "metadata": {},
   "source": [
    "#### Todo:"
   ]
  },
  {
   "cell_type": "markdown",
   "metadata": {},
   "source": [
    "- [ ] Update DMP and protocol"
   ]
  },
  {
   "cell_type": "markdown",
   "metadata": {},
   "source": [
    "#### Considerations:"
   ]
  },
  {
   "cell_type": "markdown",
   "metadata": {},
   "source": [
    "* **NO sparql**"
   ]
  },
  {
   "cell_type": "markdown",
   "metadata": {},
   "source": [
    "#### Diary:"
   ]
  },
  {
   "cell_type": "markdown",
   "metadata": {},
   "source": [
    "* asked Peroni for clarifications on what to use to make the requests to Meta. We need to download the zipped dumps from OC. <u>you can read the zipped content without unzipping the archive</u>"
   ]
  },
  {
   "cell_type": "markdown",
   "metadata": {},
   "source": [
    "<hr style=\"width: 50%;\">\n",
    "\n",
    "### Week 7 | *02/05 -> 10/05*"
   ]
  },
  {
   "cell_type": "markdown",
   "metadata": {},
   "source": [
    "#### Todo:"
   ]
  },
  {
   "cell_type": "markdown",
   "metadata": {},
   "source": [
    "- [ ] Write software\n",
    "- [ ] Revise the protocol"
   ]
  },
  {
   "cell_type": "markdown",
   "metadata": {},
   "source": [
    "#### Considerations:"
   ]
  },
  {
   "cell_type": "markdown",
   "metadata": {},
   "source": [
    "#### Diary:"
   ]
  },
  {
   "cell_type": "markdown",
   "metadata": {},
   "source": [
    "* found a way to read zipped collections of csvs with polars.\n",
    "* revised the protocol following the reviews coming from the other group."
   ]
  },
  {
   "cell_type": "markdown",
   "metadata": {},
   "source": [
    "<hr style=\"width: 50%;\">\n",
    "\n",
    "### Week 8 | *11/05 -> 18/05*"
   ]
  },
  {
   "cell_type": "markdown",
   "metadata": {},
   "source": [
    "#### Todo:"
   ]
  },
  {
   "cell_type": "markdown",
   "metadata": {},
   "source": [
    "- [x] Refactor software\n",
    "- [ ] Update protocol\n",
    "- [ ] Update DMP\n",
    "- [ ] Update abstract"
   ]
  },
  {
   "cell_type": "markdown",
   "metadata": {},
   "source": [
    "#### Considerations:"
   ]
  },
  {
   "cell_type": "markdown",
   "metadata": {},
   "source": [
    "* Fuzzy matching of 100k entities over 140 million strings is NOT feasible."
   ]
  },
  {
   "cell_type": "markdown",
   "metadata": {},
   "source": [
    "#### Diary:"
   ]
  },
  {
   "cell_type": "markdown",
   "metadata": {},
   "source": [
    "* Dask is not working for our task. Back to polars for Meta\n",
    "* Built the scripts in the src/ folder. Made them runnable nice and pretty from terminal\n",
    "* talked with Ivan about the titles situation. He agrees it's tricky. Might have to let go of the idea.\n",
    "* implemented the script made by Sasy to retrieve the titles without id from meta."
   ]
  },
  {
   "cell_type": "markdown",
   "metadata": {},
   "source": [
    "<hr style=\"width: 50%;\">\n",
    "\n",
    "### Week 9 | *19/05 -> 25/05*"
   ]
  },
  {
   "cell_type": "markdown",
   "metadata": {},
   "source": [
    "#### Todo:"
   ]
  },
  {
   "cell_type": "markdown",
   "metadata": {},
   "source": [
    "- [ ] Finalize the software\n",
    "- [ ] Upload datasets\n",
    "- [ ] Make presentation slides\n",
    "- [ ] Write article"
   ]
  },
  {
   "cell_type": "markdown",
   "metadata": {},
   "source": [
    "#### Considerations:"
   ]
  },
  {
   "cell_type": "markdown",
   "metadata": {},
   "source": [
    "* further analysis for the presentation\n",
    "* no need for visualizations in the software"
   ]
  },
  {
   "cell_type": "markdown",
   "metadata": {},
   "source": [
    "#### Diary:"
   ]
  },
  {
   "cell_type": "markdown",
   "metadata": {},
   "source": [
    "##### Sunday, 19/05\n"
   ]
  },
  {
   "cell_type": "markdown",
   "metadata": {},
   "source": [
    "* fixed the error that prevented Erica to access the variables returning from the functions in /src."
   ]
  },
  {
   "cell_type": "code",
   "execution_count": null,
   "metadata": {},
   "outputs": [],
   "source": []
  }
 ],
 "metadata": {
  "kernelspec": {
   "display_name": "Python 3 (ipykernel)",
   "language": "python",
   "name": "python3"
  },
  "language_info": {
   "codemirror_mode": {
    "name": "ipython",
    "version": 3
   },
   "file_extension": ".py",
   "mimetype": "text/x-python",
   "name": "python",
   "nbconvert_exporter": "python",
   "pygments_lexer": "ipython3",
   "version": "3.11.8"
  }
 },
 "nbformat": 4,
 "nbformat_minor": 2
}
