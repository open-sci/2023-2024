{
 "cells": [
  {
   "cell_type": "markdown",
   "metadata": {},
   "source": [
    "# <center><b>Open Science Project Notebook</b><center>"
   ]
  },
  {
   "cell_type": "markdown",
   "metadata": {},
   "source": [
    "### <center>Leonardo Zilli - 0001102264 - Team Atreides</center>\n",
    "##### <center><i>Spring 2024</i></center>\n",
    "###### <center><i><a href=\"https://nbviewer.org/github/open-sci/2023-2024/blob/main/docs/Atreides/Leonardo%27s%20notebook.ipynb\">nbviewer</a></i></center>\n",
    "\n",
    "---\n",
    "---"
   ]
  },
  {
   "cell_type": "markdown",
   "metadata": {},
   "source": [
    "### Research Question"
   ]
  },
  {
   "cell_type": "markdown",
   "metadata": {},
   "source": [
    "What is the coverage of the publications available in IRIS, that strictly concern research conducted within the University of Bologna, in OpenCitations Meta? What is the types of publications that are better covered in OpenCitations Meta? What is the amount of citations (according to OpenCitations Index) the IRIS publications included in OpenCitations Meta are involved in (as citing entity and as cited entity)? How many of these citations come from and go to publications not included in IRIS, and how many of these citations involves publications in IRIS as both citing and cited entities?"
   ]
  },
  {
   "cell_type": "markdown",
   "metadata": {},
   "source": [
    "### Abstract\n",
    "\n"
   ]
  },
  {
   "cell_type": "markdown",
   "metadata": {},
   "source": [
    "[Abstract](abstract.md)\n"
   ]
  },
  {
   "cell_type": "markdown",
   "metadata": {},
   "source": [
    "---"
   ]
  },
  {
   "cell_type": "markdown",
   "metadata": {},
   "source": [
    "### Week 1 | *21/03 -> 27/03*"
   ]
  },
  {
   "cell_type": "markdown",
   "metadata": {},
   "source": [
    "#### Todo:"
   ]
  },
  {
   "cell_type": "markdown",
   "metadata": {},
   "source": [
    "- [x] Upload notebook\n",
    "- [x] Write abstract"
   ]
  },
  {
   "cell_type": "markdown",
   "metadata": {},
   "source": [
    "#### Considerations:"
   ]
  },
  {
   "cell_type": "markdown",
   "metadata": {},
   "source": [
    "* Inquire on the points highlighted during Tomasi's seminar (Zenodo, DOI, SWH)\n",
    "* [protocols.io](https://www.protocols.io/)"
   ]
  },
  {
   "cell_type": "markdown",
   "metadata": {},
   "source": [
    "#### Diary:"
   ]
  },
  {
   "cell_type": "markdown",
   "metadata": {},
   "source": [
    "##### Monday, *25/03*"
   ]
  },
  {
   "cell_type": "markdown",
   "metadata": {},
   "source": [
    "* Created and uploaded my notebook for the project \n",
    "* Worked with the others to a first version of the abstract\n",
    "    - <u>do we have to explain what OC Meta, OC Index or IRIS, is?</u>\n",
    "    - <u>do we have to explicitly disclose all the RQs?</u>\n",
    "    - <u>WHY do we need to analyze the IRIS dump's coverage in OCMeta?</u>\n",
    "* Dissected the research question into smaller ones, see below:\n",
    "\n",
    "| Question      | Solution |\n",
    "| ----------- | ----------- |\n",
    "| 1. What is the coverage of the publications available in IRIS (strictly concerning research conducted within the University of Bologna) in OpenCitations Meta? |        |\n",
    "| 2. Which are the types of publications that are better covered in OpenCitations Meta?   |         |\n",
    "| 3. What is the amount of citations (according to OpenCitations Index) coming from the IRIS publications that are involved in OpenCitations Meta (as citing entity and as cited entity)? |       |\n",
    "| 4. How many of these citations come from and go to publications that are not included in IRIS? |         |\n",
    "| 5. How many of these citations involve publications in IRIS as both citing and cited entities? |         |\n"
   ]
  },
  {
   "cell_type": "markdown",
   "metadata": {},
   "source": [
    "<hr style=\"width: 50%;\">\n",
    "\n",
    "### Week 2 | *28/03 -> 03/04*"
   ]
  },
  {
   "cell_type": "markdown",
   "metadata": {},
   "source": [
    "#### Todo:"
   ]
  },
  {
   "cell_type": "markdown",
   "metadata": {},
   "source": [
    "- [ ] Create DMP"
   ]
  },
  {
   "cell_type": "markdown",
   "metadata": {},
   "source": [
    "#### Considerations:"
   ]
  },
  {
   "cell_type": "markdown",
   "metadata": {},
   "source": []
  },
  {
   "cell_type": "markdown",
   "metadata": {},
   "source": [
    "#### Diary:"
   ]
  },
  {
   "cell_type": "markdown",
   "metadata": {},
   "source": [
    "##### Saturday, 02/03"
   ]
  },
  {
   "cell_type": "markdown",
   "metadata": {},
   "source": [
    "* Had a call with the others and did a first draft of the DMP with [argos](https://argos.openaire.eu/). We also created a <ins>draft</ins> of it on Zenodo, because we need to clarify some things first.\n",
    "    - <u>do we upload the DMP as a whole on Zenodo or the two descriptions singularly?</u>\n",
    "    - <u>there were a lot of things we couldn't specify during the creation of the DMP (e.g. expected size of the software)</u>"
   ]
  },
  {
   "cell_type": "markdown",
   "metadata": {},
   "source": [
    "<hr style=\"width: 50%;\">\n",
    "\n",
    "### Week 3 | *04/04 -> 10/04*"
   ]
  },
  {
   "cell_type": "markdown",
   "metadata": {},
   "source": []
  },
  {
   "cell_type": "markdown",
   "metadata": {},
   "source": [
    "<hr style=\"width: 50%;\">\n",
    "\n",
    "### Week 4 | *11/04 -> 17/04*"
   ]
  },
  {
   "cell_type": "markdown",
   "metadata": {},
   "source": []
  },
  {
   "cell_type": "markdown",
   "metadata": {},
   "source": [
    "<hr style=\"width: 50%;\">\n",
    "\n",
    "### Week 5 | *18/04 -> 24/04*"
   ]
  },
  {
   "cell_type": "markdown",
   "metadata": {},
   "source": []
  },
  {
   "cell_type": "markdown",
   "metadata": {},
   "source": [
    "<hr style=\"width: 50%;\">\n",
    "\n",
    "### Week 6 | *25/04 -> 01/05*"
   ]
  },
  {
   "cell_type": "markdown",
   "metadata": {},
   "source": []
  },
  {
   "cell_type": "markdown",
   "metadata": {},
   "source": [
    "---\n",
    "---"
   ]
  }
 ],
 "metadata": {
  "language_info": {
   "name": "python"
  }
 },
 "nbformat": 4,
 "nbformat_minor": 2
}
