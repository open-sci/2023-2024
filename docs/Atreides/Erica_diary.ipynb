{
 "cells": [
  {
   "cell_type": "markdown",
   "metadata": {},
   "source": [
    "# Open Science Project Notebook 2024"
   ]
  },
  {
   "cell_type": "markdown",
   "metadata": {},
   "source": [
    "Erica Andreose - Team Atreides - DHDK "
   ]
  },
  {
   "cell_type": "markdown",
   "metadata": {},
   "source": [
    "--------------------------------------------------------------------------------------------------------------------\n"
   ]
  },
  {
   "cell_type": "markdown",
   "metadata": {},
   "source": [
    "### Research Questions\n",
    "\n",
    "- What is the coverage of the publications available in IRIS, that strictly concern research conducted within the University of Bologna, in OpenCitations Meta? \n",
    "- What is the types of publications that are better covered in OpenCitations Meta? \n",
    "- What is the amount of citations (according to OpenCitations Index) the IRIS publications included in OpenCitations Meta are involved in (as citing entity and as cited entity)? \n",
    "- How many of these citations come from and go to publications not included in IRIS, and how many of these citations involves publications in IRIS as both citing and cited entities?"
   ]
  },
  {
   "cell_type": "markdown",
   "metadata": {},
   "source": [
    "[Read out abstract](https://github.com/open-sci/2023-2024/blob/f0a53aa0e6647689339d945dcbc3c0c29689e777/docs/Atreides/abstract.md)"
   ]
  },
  {
   "cell_type": "markdown",
   "metadata": {},
   "source": [
    "[IRIS Dataset](https://doi.org/10.6092/unibo/amsacta/7608)"
   ]
  },
  {
   "cell_type": "markdown",
   "metadata": {},
   "source": [
    "---------------------------------------------------------------------------------------------------------------------"
   ]
  },
  {
   "cell_type": "markdown",
   "metadata": {},
   "source": [
    "Other useful links:\n",
    "\n",
    "[OC Index API](https://w3id.org/oc/index/api/v2) \n",
    "\n",
    "[OC Meta](http://opencitations.net/meta) \n",
    "\n",
    "[OC Meta API](https://w3id.org/oc/meta/api/v1) \n",
    "\n",
    "[OC Meta full-download](http://opencitations.net/download#meta) "
   ]
  },
  {
   "cell_type": "markdown",
   "metadata": {},
   "source": [
    "---------------------------------------------------------------------------------------------------------------------"
   ]
  },
  {
   "cell_type": "markdown",
   "metadata": {},
   "source": [
    "*26/03/2024*\n",
    "\n",
    "- [x] Do a little research on the working material\n",
    "- [x] Try to put down the first abstract which describes what you expect to accomplish with the project. It is an abstract that evolves and changes in the various processing phases. Use this as [reference](https://www.emeraldgrouppublishing.com/how-to/authoring-editing-reviewing/write-article-abstract)."
   ]
  },
  {
   "cell_type": "markdown",
   "metadata": {},
   "source": [
    "### What is IRIS?\n",
    "\n",
    "IRIS is the implementation of the Current Research Information System of the University of Bologna, which permits gathering data related to research activities and outcomes.\n",
    "It offers several interfaces and tools to researchers, administrators, evaluators to document and monitor research outputs and to increase their visibility.\n",
    "It offers several REST APIs to gather public data from it.\n",
    "\n",
    "More infos also [here](https://www.cineca.it/sistemi-informativi-universita/ricerca/iris-la-gestione-della-ricerca)\n",
    "\n",
    "\n"
   ]
  },
  {
   "cell_type": "markdown",
   "metadata": {},
   "source": [
    "### What is OC Meta?\n",
    "\n",
    "The OpenCitations Meta database stores and delivers bibliographic metadata for all publications involved in the OpenCitations Index.\n",
    "\n",
    "For each publication, the metadata exposed by OpenCitations Meta includes the publication's title, type, venue (e.g. journal name), volume number, issue number, page numbers, publication date, and identifiers such as Digital Object Identifiers (DOIs) and PubMed Identifiers (PMIDs). In addition, OpenCitations Meta includes details of the main actors involved in the publication of the document, i.e., the names of the authors, editors, and publishers, each with its own additional metadata and identifier (e.g. ORCID).\n",
    "\n",
    "Currently, OpenCitations Meta contains:\n",
    "\n",
    "- 105,953,699 bibliographic entities\n",
    "\n",
    "- 338,173,282 authors and 2,523,200 editors (counted by their roles, without disambiguating individuals)\n",
    "\n",
    "- 691,262 publication venues\n",
    "\n",
    "- 36,679 publishers\n",
    "\n",
    "Keep reading [here](http://opencitations.net/meta)"
   ]
  }
 ],
 "metadata": {
  "kernelspec": {
   "display_name": "Python 3",
   "language": "python",
   "name": "python3"
  },
  "language_info": {
   "name": "python",
   "version": "3.10.3"
  }
 },
 "nbformat": 4,
 "nbformat_minor": 2
}
