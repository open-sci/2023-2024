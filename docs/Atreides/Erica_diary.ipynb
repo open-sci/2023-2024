{
 "cells": [
  {
   "cell_type": "markdown",
   "metadata": {},
   "source": [
    "# Open Science Project Notebook 2024"
   ]
  },
  {
   "cell_type": "markdown",
   "metadata": {},
   "source": [
    "Erica Andreose - Team Atreides - DHDK "
   ]
  },
  {
   "cell_type": "markdown",
   "metadata": {},
   "source": [
    "--------------------------------------------------------------------------------------------------------------------\n"
   ]
  },
  {
   "cell_type": "markdown",
   "metadata": {},
   "source": [
    "![Bene Gesserit](https://i0.wp.com/www.thewrap.com/wp-content/uploads/2024/02/dune-part-2-rebecca-ferguson.jpg?fit=990%2C557&ssl=1)"
   ]
  },
  {
   "cell_type": "markdown",
   "metadata": {},
   "source": [
    "### Research Questions\n",
    "\n",
    "- What is the coverage of the publications available in IRIS, that strictly concern research conducted within the University of Bologna, in OpenCitations Meta? \n",
    "- What is the types of publications that are better covered in OpenCitations Meta? \n",
    "- What is the amount of citations (according to OpenCitations Index) the IRIS publications included in OpenCitations Meta are involved in (as citing entity and as cited entity)? \n",
    "- How many of these citations come from and go to publications not included in IRIS, and how many of these citations involves publications in IRIS as both citing and cited entities?"
   ]
  },
  {
   "cell_type": "markdown",
   "metadata": {},
   "source": [
    "[Read out abstract](https://github.com/open-sci/2023-2024/blob/f0a53aa0e6647689339d945dcbc3c0c29689e777/docs/Atreides/abstract.md)"
   ]
  },
  {
   "cell_type": "markdown",
   "metadata": {},
   "source": [
    "[IRIS Dataset](https://doi.org/10.6092/unibo/amsacta/7608)"
   ]
  },
  {
   "cell_type": "markdown",
   "metadata": {},
   "source": [
    "---------------------------------------------------------------------------------------------------------------------"
   ]
  },
  {
   "cell_type": "markdown",
   "metadata": {},
   "source": [
    "Other useful links:\n",
    "\n",
    "[OC Index API](https://w3id.org/oc/index/api/v2) \n",
    "\n",
    "[OC Meta](http://opencitations.net/meta) \n",
    "\n",
    "[OC Meta API](https://w3id.org/oc/meta/api/v1) \n",
    "\n",
    "[OC Meta full-download](http://opencitations.net/download#meta) "
   ]
  },
  {
   "cell_type": "markdown",
   "metadata": {},
   "source": [
    "---------------------------------------------------------------------------------------------------------------------"
   ]
  },
  {
   "cell_type": "markdown",
   "metadata": {},
   "source": [
    "*26/03/2024*\n",
    "\n",
    "- [x] Do a little research on the working material\n",
    "- [x] Try to put down the first abstract which describes what you expect to accomplish with the project. It is an abstract that evolves and changes in the various processing phases. Use this as [reference](https://www.emeraldgrouppublishing.com/how-to/authoring-editing-reviewing/write-article-abstract)."
   ]
  },
  {
   "cell_type": "markdown",
   "metadata": {},
   "source": [
    "### What is IRIS?\n",
    "\n",
    "IRIS is the implementation of the Current Research Information System of the University of Bologna, which permits gathering data related to research activities and outcomes.\n",
    "It offers several interfaces and tools to researchers, administrators, evaluators to document and monitor research outputs and to increase their visibility.\n",
    "It offers several REST APIs to gather public data from it.\n",
    "\n",
    "More infos also [here](https://www.cineca.it/sistemi-informativi-universita/ricerca/iris-la-gestione-della-ricerca)\n",
    "\n",
    "\n"
   ]
  },
  {
   "cell_type": "markdown",
   "metadata": {},
   "source": [
    "### What is OC Meta?\n",
    "\n",
    "The OpenCitations Meta database stores and delivers bibliographic metadata for all publications involved in the OpenCitations Index.\n",
    "\n",
    "For each publication, the metadata exposed by OpenCitations Meta includes the publication's title, type, venue (e.g. journal name), volume number, issue number, page numbers, publication date, and identifiers such as Digital Object Identifiers (DOIs) and PubMed Identifiers (PMIDs). In addition, OpenCitations Meta includes details of the main actors involved in the publication of the document, i.e., the names of the authors, editors, and publishers, each with its own additional metadata and identifier (e.g. ORCID).\n",
    "\n",
    "Currently, OpenCitations Meta contains:\n",
    "\n",
    "- 105,953,699 bibliographic entities\n",
    "\n",
    "- 338,173,282 authors and 2,523,200 editors (counted by their roles, without disambiguating individuals)\n",
    "\n",
    "- 691,262 publication venues\n",
    "\n",
    "- 36,679 publishers\n",
    "\n",
    "Keep reading [here](http://opencitations.net/meta)"
   ]
  },
  {
   "cell_type": "markdown",
   "metadata": {},
   "source": [
    "---------------------------------------------------------------------------------------------------------------------"
   ]
  },
  {
   "cell_type": "markdown",
   "metadata": {},
   "source": [
    "*04/04/2024*\n",
    "\n",
    "- [x] Study how to draft the DMP\n",
    "- [x] Annotate some questions related to the task"
   ]
  },
  {
   "cell_type": "markdown",
   "metadata": {},
   "source": [
    "Questions:\n",
    "\n",
    "- license and reuse of data\n",
    "- metadata and vocabularies\n",
    "- size of the software\n",
    "- security "
   ]
  },
  {
   "cell_type": "markdown",
   "metadata": {},
   "source": [
    "---------------------------------------------------------------------------------------------------------------------"
   ]
  },
  {
   "cell_type": "markdown",
   "metadata": {},
   "source": [
    "*09/04/2024*\n",
    "\n",
    "- [x] Complete the DMP draft\n",
    "- [x] Start the protocol\n",
    "\n",
    "### DMP\n",
    "\n",
    "We have tried to include all the preliminary information we have on the data and the development process of our future software. Some points are still unclear or in the process of being defined (metadata, chosen vocabularies, software development and components, security, etc.). We used the platform [Argos OpenAire](https://argos.openaire.eu/home) to compile the plan. We divided the plan between: a general section, a description of the IRIS dataset, a description of the software.\n",
    "\n",
    "[Link at our DMP](https://doi.org/10.5281/zenodo.10898482)\n",
    "\n",
    "### Protocol\n",
    "\n",
    "We started to develop a protocol for the software underlining what the various components and processing phases will be developed. The steps that will lead to the resolution of the research questions are multiple and divided into several phases. We used the platform [Protocols](https://www.protocols.io/) to draft our ideas. \n",
    "\n",
    "[Link at our protocol](https://dx.doi.org/10.17504/protocols.io.3byl497wjgo5/v1)\n",
    "\n"
   ]
  },
  {
   "cell_type": "markdown",
   "metadata": {},
   "source": [
    "---------------------------------------------------------------------------------------------------------------------"
   ]
  },
  {
   "cell_type": "markdown",
   "metadata": {},
   "source": [
    "*03/05/2024*\n",
    "\n",
    "- [x] Start the software development\n",
    "\n",
    "Taking a look at some libraries and tools. The files are huge to manage -> we will use the in the zipped version. \n",
    "I'm looking at the functioning of ZipFile, polars and parquet.\n",
    "\n"
   ]
  },
  {
   "cell_type": "markdown",
   "metadata": {},
   "source": [
    "---------------------------------------------------------------------------------------------------------------------"
   ]
  },
  {
   "cell_type": "markdown",
   "metadata": {},
   "source": [
    "*18/04/2024*\n",
    "\n",
    "- [x] Reviewing the Harkonnen DMP \n",
    "- [x] Reviewing the Harkonnen protocol\n",
    "\n",
    "I analyzed and reviewed the [Harkonnen group's DMP](https://doi.org/10.5281/zenodo.10950753). My review can be read at this [link](https://www.qeios.com/read/6KC2WS). The DMP seems to me to be very well formulated and full of information. I noted some possible improvements. Observing their work helped me understand how to improve mine, some choices they made were slightly different from ours and I appreciated being able to make this comparison.\n",
    "\n",
    "I also want to put there some useful links:\n",
    "\n",
    "[Nicole's review of our DMP](https://doi.org/10.32388/U63N7W)\n",
    "\n",
    "[Chiara's review of our DMP](https://doi.org/10.32388/493F5X)\n",
    "\n",
    "\n"
   ]
  },
  {
   "cell_type": "markdown",
   "metadata": {},
   "source": [
    "---------------------------------------------------------------------------------------------------------------------"
   ]
  },
  {
   "cell_type": "markdown",
   "metadata": {},
   "source": [
    "*14/05/2024*\n",
    "\n",
    "- [x] Starting the data visualization of the first two research questions\n",
    "\n",
    "I started developing a Jupyter notebook for the code used to visualize the data obtained from the first analyses. I'm using the matplotlib library but I don't rule out trying seaborn too."
   ]
  }
 ],
 "metadata": {
  "kernelspec": {
   "display_name": "Python 3",
   "language": "python",
   "name": "python3"
  },
  "language_info": {
   "name": "python",
   "version": "3.10.12"
  }
 },
 "nbformat": 4,
 "nbformat_minor": 2
}
